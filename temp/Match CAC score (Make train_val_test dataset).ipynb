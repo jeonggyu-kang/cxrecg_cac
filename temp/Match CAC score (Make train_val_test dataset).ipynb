{
 "cells": [
  {
   "cell_type": "code",
   "execution_count": 1,
   "id": "0810da97",
   "metadata": {},
   "outputs": [],
   "source": [
    "import pandas as pd\n",
    "import numpy as np\n",
    "import os\n",
    "import json\n",
    "import pydicom\n",
    "from tqdm import tqdm"
   ]
  },
  {
   "cell_type": "code",
   "execution_count": 2,
   "id": "b4ad7b89",
   "metadata": {},
   "outputs": [],
   "source": [
    "dirs = ['../../Data/cac_0','../../Data/cac_1']"
   ]
  },
  {
   "cell_type": "code",
   "execution_count": 3,
   "id": "13316e7e",
   "metadata": {},
   "outputs": [],
   "source": [
    "df1 = pd.read_csv('../../2016_2017_cacs.csv', encoding='cp949')[['등록번호', 'dov', '관상동맥질환 위험도']]\n",
    "df2 = pd.read_csv('../../2018_2019_cacs.csv', encoding='cp949')[['등록번호', '2018', '관상동맥질환 위험도']]\n",
    "df2.columns = df1.columns"
   ]
  },
  {
   "cell_type": "code",
   "execution_count": 4,
   "id": "e17a8152",
   "metadata": {},
   "outputs": [],
   "source": [
    "cac_score_df = pd.concat((df1,df2))\n",
    "cac_score_df.columns = ['patid','dov','cac']"
   ]
  },
  {
   "cell_type": "code",
   "execution_count": 5,
   "id": "0c1a9803",
   "metadata": {},
   "outputs": [],
   "source": [
    "cac_to_int = {\n",
    "    '저위험군(Very low)':0,\n",
    "    '저위험군(Low)':1,\n",
    "    '중등 위험군(Moderate)':2,\n",
    "    '중등 고위험군(Moderately high)':3,\n",
    "    '고위험군(High)':4\n",
    "}\n",
    "cac_score_df['cac'] = cac_score_df['cac'].apply(lambda x:cac_to_int[x])"
   ]
  },
  {
   "cell_type": "code",
   "execution_count": 6,
   "id": "f0fc79fd",
   "metadata": {},
   "outputs": [],
   "source": [
    "def match_date_format(x):\n",
    "    return str(x).replace('-','').replace(\"'\",'')\n",
    "cac_score_df['dov'] = cac_score_df['dov'].map(match_date_format)"
   ]
  },
  {
   "cell_type": "code",
   "execution_count": 7,
   "id": "729b683f",
   "metadata": {},
   "outputs": [],
   "source": [
    "cac_score_df['patid'] = cac_score_df['patid'].apply(lambda x:int(x.replace(\"'\",'')))"
   ]
  },
  {
   "cell_type": "code",
   "execution_count": 8,
   "id": "7b11ef56",
   "metadata": {},
   "outputs": [
    {
     "name": "stderr",
     "output_type": "stream",
     "text": [
      "100%|██████████| 1512/1512 [01:55<00:00, 13.07it/s]\n",
      "  0%|          | 1/968 [00:00<01:53,  8.54it/s]"
     ]
    },
    {
     "name": "stdout",
     "output_type": "stream",
     "text": [
      "../../Data/cac_0 1512 0\n"
     ]
    },
    {
     "name": "stderr",
     "output_type": "stream",
     "text": [
      "100%|██████████| 968/968 [01:41<00:00,  9.56it/s]"
     ]
    },
    {
     "name": "stdout",
     "output_type": "stream",
     "text": [
      "../../Data/cac_1 968 0\n"
     ]
    },
    {
     "name": "stderr",
     "output_type": "stream",
     "text": [
      "\n"
     ]
    }
   ],
   "source": [
    "# pat id check\n",
    "values = cac_score_df['patid'].values\n",
    "d = {k:True for k in cac_score_df['patid'].values}\n",
    "\n",
    "\n",
    "for dir_name in dirs:\n",
    "    items = os.listdir(dir_name)\n",
    "    success = []\n",
    "    failure = []\n",
    "    for item in tqdm(items):\n",
    "        dcm_path = os.path.join(dir_name, item)\n",
    "        dcm = pydicom.read_file(dcm_path)\n",
    "        if d.get(int(dcm.PatientID),None):\n",
    "            success.append(dcm_path)\n",
    "        else:\n",
    "            failure.append(dcm_path)\n",
    "    print(dir_name, len(success), len(failure))\n"
   ]
  },
  {
   "cell_type": "code",
   "execution_count": 19,
   "id": "54790921",
   "metadata": {},
   "outputs": [],
   "source": [
    "def getScore(dcm_path , score_df):\n",
    "    dcm = pydicom.read_file(dcm_path)\n",
    "    study_date = dcm.StudyDate\n",
    "    pat_id = int(dcm.PatientID)\n",
    "    pat_df = score_df[score_df['patid']== pat_id]\n",
    "    if len(pat_df)>0:\n",
    "        df = pat_df[pat_df['dov'].map(lambda x:x == study_date[:4])]\n",
    "        if len(df)>0:\n",
    "            return [pat_id, study_date, df['cac'].values[0]]\n",
    "        else:\n",
    "            return False\n",
    "    else:\n",
    "        return False"
   ]
  },
  {
   "cell_type": "code",
   "execution_count": 21,
   "id": "5018e4b3",
   "metadata": {},
   "outputs": [
    {
     "name": "stderr",
     "output_type": "stream",
     "text": [
      "100%|██████████| 1512/1512 [02:00<00:00, 12.59it/s]\n",
      "100%|██████████| 968/968 [01:51<00:00,  8.70it/s]\n"
     ]
    }
   ],
   "source": [
    "matched_files_list = []\n",
    "for dir_name in dirs:\n",
    "    items = os.listdir(dir_name)\n",
    "    for item in tqdm(items):\n",
    "        dcm_path = os.path.join(dir_name, item)\n",
    "        values = getScore(dcm_path, cac_score_df)\n",
    "        if values:\n",
    "            values = [dcm_path.split('Data/')[1]] + values\n",
    "            # values: dcm_path, pat_id, study_date, cac score\n",
    "            matched_files_list.append(values)"
   ]
  },
  {
   "cell_type": "code",
   "execution_count": 23,
   "id": "e089edc2",
   "metadata": {},
   "outputs": [],
   "source": [
    "df = pd.DataFrame(matched_files_list)"
   ]
  },
  {
   "cell_type": "code",
   "execution_count": 24,
   "id": "f8d1826f",
   "metadata": {},
   "outputs": [],
   "source": [
    "df.columns = ['dcm_path', 'pat_id','study_date','score']"
   ]
  },
  {
   "cell_type": "code",
   "execution_count": 38,
   "id": "117505d6",
   "metadata": {},
   "outputs": [
    {
     "data": {
      "text/html": [
       "<div>\n",
       "<style scoped>\n",
       "    .dataframe tbody tr th:only-of-type {\n",
       "        vertical-align: middle;\n",
       "    }\n",
       "\n",
       "    .dataframe tbody tr th {\n",
       "        vertical-align: top;\n",
       "    }\n",
       "\n",
       "    .dataframe thead th {\n",
       "        text-align: right;\n",
       "    }\n",
       "</style>\n",
       "<table border=\"1\" class=\"dataframe\">\n",
       "  <thead>\n",
       "    <tr style=\"text-align: right;\">\n",
       "      <th></th>\n",
       "      <th>dcm_path</th>\n",
       "      <th>pat_id</th>\n",
       "      <th>study_date</th>\n",
       "      <th>score</th>\n",
       "    </tr>\n",
       "  </thead>\n",
       "  <tbody>\n",
       "    <tr>\n",
       "      <th>0</th>\n",
       "      <td>cac_0/I0005842.dcm</td>\n",
       "      <td>554258</td>\n",
       "      <td>20171208</td>\n",
       "      <td>0</td>\n",
       "    </tr>\n",
       "    <tr>\n",
       "      <th>1</th>\n",
       "      <td>cac_0/I0006148.dcm</td>\n",
       "      <td>1519894</td>\n",
       "      <td>20170126</td>\n",
       "      <td>0</td>\n",
       "    </tr>\n",
       "    <tr>\n",
       "      <th>2</th>\n",
       "      <td>cac_0/I0006454.dcm</td>\n",
       "      <td>1782239</td>\n",
       "      <td>20170406</td>\n",
       "      <td>0</td>\n",
       "    </tr>\n",
       "    <tr>\n",
       "      <th>3</th>\n",
       "      <td>cac_0/I0005537.dcm</td>\n",
       "      <td>773862</td>\n",
       "      <td>20170616</td>\n",
       "      <td>0</td>\n",
       "    </tr>\n",
       "    <tr>\n",
       "      <th>4</th>\n",
       "      <td>cac_0/I0005538.dcm</td>\n",
       "      <td>1217194</td>\n",
       "      <td>20171027</td>\n",
       "      <td>0</td>\n",
       "    </tr>\n",
       "    <tr>\n",
       "      <th>...</th>\n",
       "      <td>...</td>\n",
       "      <td>...</td>\n",
       "      <td>...</td>\n",
       "      <td>...</td>\n",
       "    </tr>\n",
       "    <tr>\n",
       "      <th>2475</th>\n",
       "      <td>cac_1/I0008013.dcm</td>\n",
       "      <td>230019</td>\n",
       "      <td>20170504</td>\n",
       "      <td>0</td>\n",
       "    </tr>\n",
       "    <tr>\n",
       "      <th>2476</th>\n",
       "      <td>cac_1/I0008014.dcm</td>\n",
       "      <td>82603494</td>\n",
       "      <td>20170801</td>\n",
       "      <td>4</td>\n",
       "    </tr>\n",
       "    <tr>\n",
       "      <th>2477</th>\n",
       "      <td>cac_1/I0008015.dcm</td>\n",
       "      <td>82244917</td>\n",
       "      <td>20170308</td>\n",
       "      <td>4</td>\n",
       "    </tr>\n",
       "    <tr>\n",
       "      <th>2478</th>\n",
       "      <td>cac_1/I0008016.dcm</td>\n",
       "      <td>1197040</td>\n",
       "      <td>20170418</td>\n",
       "      <td>4</td>\n",
       "    </tr>\n",
       "    <tr>\n",
       "      <th>2479</th>\n",
       "      <td>cac_1/I0008017.dcm</td>\n",
       "      <td>634447</td>\n",
       "      <td>20170906</td>\n",
       "      <td>4</td>\n",
       "    </tr>\n",
       "  </tbody>\n",
       "</table>\n",
       "<p>2480 rows × 4 columns</p>\n",
       "</div>"
      ],
      "text/plain": [
       "                dcm_path    pat_id study_date  score\n",
       "0     cac_0/I0005842.dcm    554258   20171208      0\n",
       "1     cac_0/I0006148.dcm   1519894   20170126      0\n",
       "2     cac_0/I0006454.dcm   1782239   20170406      0\n",
       "3     cac_0/I0005537.dcm    773862   20170616      0\n",
       "4     cac_0/I0005538.dcm   1217194   20171027      0\n",
       "...                  ...       ...        ...    ...\n",
       "2475  cac_1/I0008013.dcm    230019   20170504      0\n",
       "2476  cac_1/I0008014.dcm  82603494   20170801      4\n",
       "2477  cac_1/I0008015.dcm  82244917   20170308      4\n",
       "2478  cac_1/I0008016.dcm   1197040   20170418      4\n",
       "2479  cac_1/I0008017.dcm    634447   20170906      4\n",
       "\n",
       "[2480 rows x 4 columns]"
      ]
     },
     "execution_count": 38,
     "metadata": {},
     "output_type": "execute_result"
    }
   ],
   "source": [
    "df"
   ]
  },
  {
   "cell_type": "code",
   "execution_count": 39,
   "id": "afaa930e",
   "metadata": {},
   "outputs": [],
   "source": [
    "df_shuffled=df.sample(frac=1).reset_index(drop=True)"
   ]
  },
  {
   "cell_type": "code",
   "execution_count": 41,
   "id": "befeb9b8",
   "metadata": {},
   "outputs": [],
   "source": [
    "n_train = len(df)//10 * 7\n",
    "n_val = len(df)//10 * 1\n",
    "df_train = df_shuffled.iloc[:n_train]\n",
    "df_val = df_shuffled.iloc[n_train:n_train+n_val]\n",
    "df_test = df_shuffled.iloc[n_train+n_val:]"
   ]
  },
  {
   "cell_type": "code",
   "execution_count": 42,
   "id": "d2ebe00b",
   "metadata": {},
   "outputs": [
    {
     "name": "stdout",
     "output_type": "stream",
     "text": [
      "1062\n",
      "1\n",
      "9\n",
      "522\n",
      "142\n",
      "======\n",
      "147\n",
      "0\n",
      "1\n",
      "77\n",
      "23\n",
      "======\n",
      "302\n",
      "0\n",
      "2\n",
      "154\n",
      "38\n",
      "======\n"
     ]
    }
   ],
   "source": [
    "for i in range(5):\n",
    "    print((df_train.score == i).sum())\n",
    "    \n",
    "print('======')\n",
    "for i in range(5):\n",
    "    print((df_val.score == i).sum())\n",
    "    \n",
    "print('======')\n",
    "for i in range(5):\n",
    "    print((df_test.score == i).sum())\n",
    "    \n",
    "print('======')"
   ]
  },
  {
   "cell_type": "code",
   "execution_count": 45,
   "id": "e342a441",
   "metadata": {},
   "outputs": [
    {
     "data": {
      "text/plain": [
       "(2480, 1736, 248, 496)"
      ]
     },
     "execution_count": 45,
     "metadata": {},
     "output_type": "execute_result"
    }
   ],
   "source": [
    "len(df), len(df_train), len(df_val), len(df_test)"
   ]
  },
  {
   "cell_type": "code",
   "execution_count": 43,
   "id": "99346617",
   "metadata": {},
   "outputs": [],
   "source": [
    "df_train.to_parquet('../../Data/train_dataset.parquet', engine='pyarrow')\n",
    "df_val.to_parquet('../../Data/val_dataset.parquet', engine='pyarrow')\n",
    "df_test.to_parquet('../../Data/test_dataset.parquet', engine='pyarrow')"
   ]
  },
  {
   "cell_type": "code",
   "execution_count": 44,
   "id": "2053925e",
   "metadata": {},
   "outputs": [
    {
     "data": {
      "text/plain": [
       "0.592741935483871"
      ]
     },
     "execution_count": 44,
     "metadata": {},
     "output_type": "execute_result"
    }
   ],
   "source": [
    "147/(147+1+77+23)"
   ]
  }
 ],
 "metadata": {
  "kernelspec": {
   "display_name": "Python 3",
   "language": "python",
   "name": "python3"
  },
  "language_info": {
   "codemirror_mode": {
    "name": "ipython",
    "version": 3
   },
   "file_extension": ".py",
   "mimetype": "text/x-python",
   "name": "python",
   "nbconvert_exporter": "python",
   "pygments_lexer": "ipython3",
   "version": "3.9.4"
  }
 },
 "nbformat": 4,
 "nbformat_minor": 5
}
