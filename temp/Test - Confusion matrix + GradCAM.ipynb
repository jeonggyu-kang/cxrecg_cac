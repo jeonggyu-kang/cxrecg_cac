{
 "cells": [
  {
   "cell_type": "code",
   "execution_count": 16,
   "id": "3938ceb5",
   "metadata": {},
   "outputs": [],
   "source": [
    "import sys\n",
    "sys.path[0] = '../'"
   ]
  },
  {
   "cell_type": "code",
   "execution_count": 17,
   "id": "e55cba60",
   "metadata": {},
   "outputs": [],
   "source": [
    "sys.argv  = 'train.py --version tmp --model_name resnet18'.split()\n",
    "# sys.argv  = 'train.py --version tmp'.split()"
   ]
  },
  {
   "cell_type": "code",
   "execution_count": 32,
   "id": "4e9c302b",
   "metadata": {},
   "outputs": [],
   "source": [
    "save_path = '../save/0007_20210709_small_resnet18_centercrop_pretrained//model/model.pth'"
   ]
  },
  {
   "cell_type": "code",
   "execution_count": 33,
   "id": "b9f9d4f8",
   "metadata": {},
   "outputs": [],
   "source": [
    "from sklearn.metrics import confusion_matrix"
   ]
  },
  {
   "cell_type": "code",
   "execution_count": 34,
   "id": "6eab6b68",
   "metadata": {},
   "outputs": [],
   "source": [
    "import torch\n",
    "import torch.nn as nn\n",
    "\n",
    "from models import get_model\n",
    "from optimizer import get_optimizer\n",
    "from dataset import get_dataloader\n",
    "\n",
    "import argparse\n",
    "import utils\n",
    "import numpy as np\n",
    "import random\n",
    "import matplotlib\n",
    "import matplotlib.pyplot as plt\n",
    "\n",
    "def parse_args():\n",
    "    parser = argparse.ArgumentParser()\n",
    "    parser.add_argument(\"--version\", type=str, required=True)\n",
    "    # dataset\n",
    "\n",
    "    # learning hyperparameter\n",
    "    parser.add_argument(\"--lr\", type=int, default=1e-4, help='')\n",
    "    parser.add_argument(\"--batch_size\", type=int, default=32, help='')\n",
    "    parser.add_argument(\"--epoch\", type=int, default=100000, help='')\n",
    "    parser.add_argument(\"--eval_epoch\", type=int, default=5, help='')\n",
    "    # model hyperparameter\n",
    "    parser.add_argument(\"--model_name\", type=str, default='rexnetv1-1.0', choices=['resnet18', 'resnet34', 'resnet50', 'resnet101', 'resnet152', 'rexnetv1-1.0', 'rexnetv1-1.3', 'rexnetv1-1.5', 'rexnetv1-2.0', 'rexnetv1-3.0'])\n",
    "    parser.add_argument(\"--pretrained\", action='store_true', default=False, help='')\n",
    "    parser.add_argument(\"--optimizer_name\", type=str, default='Adam', choices=['Adam'])\n",
    "    # etc\n",
    "    parser.add_argument(\"--print_cycle\", type=int, default=50, help='')\n",
    "    parser.add_argument(\"--seed\", type=int, default=42, help='')\n",
    "    parser.add_argument(\"--n_class\", type=int, default=5)\n",
    "\n",
    "    args = parser.parse_args()\n",
    "    return args\n",
    "\n",
    "def set_seed(seed):\n",
    "    torch.manual_seed(seed)\n",
    "    torch.cuda.manual_seed(seed)\n",
    "    torch.cuda.manual_seed_all(seed)  # if use multi-GPU\n",
    "    torch.backends.cudnn.deterministic = True\n",
    "    torch.backends.cudnn.benchmark = False\n",
    "    np.random.seed(seed)\n",
    "    random.seed(seed)\n",
    "\n"
   ]
  },
  {
   "cell_type": "code",
   "execution_count": 35,
   "id": "5c953d56",
   "metadata": {},
   "outputs": [],
   "source": [
    "args = parse_args()\n",
    "set_seed(args.seed)"
   ]
  },
  {
   "cell_type": "code",
   "execution_count": 36,
   "id": "7ab50005",
   "metadata": {},
   "outputs": [
    {
     "data": {
      "text/plain": [
       "ResNet(\n",
       "  (conv1): Conv2d(3, 64, kernel_size=(7, 7), stride=(2, 2), padding=(3, 3), bias=False)\n",
       "  (bn1): BatchNorm2d(64, eps=1e-05, momentum=0.1, affine=True, track_running_stats=True)\n",
       "  (relu): ReLU(inplace=True)\n",
       "  (maxpool): MaxPool2d(kernel_size=3, stride=2, padding=1, dilation=1, ceil_mode=False)\n",
       "  (layer1): Sequential(\n",
       "    (0): BasicBlock(\n",
       "      (conv1): Conv2d(64, 64, kernel_size=(3, 3), stride=(1, 1), padding=(1, 1), bias=False)\n",
       "      (bn1): BatchNorm2d(64, eps=1e-05, momentum=0.1, affine=True, track_running_stats=True)\n",
       "      (relu): ReLU(inplace=True)\n",
       "      (conv2): Conv2d(64, 64, kernel_size=(3, 3), stride=(1, 1), padding=(1, 1), bias=False)\n",
       "      (bn2): BatchNorm2d(64, eps=1e-05, momentum=0.1, affine=True, track_running_stats=True)\n",
       "    )\n",
       "    (1): BasicBlock(\n",
       "      (conv1): Conv2d(64, 64, kernel_size=(3, 3), stride=(1, 1), padding=(1, 1), bias=False)\n",
       "      (bn1): BatchNorm2d(64, eps=1e-05, momentum=0.1, affine=True, track_running_stats=True)\n",
       "      (relu): ReLU(inplace=True)\n",
       "      (conv2): Conv2d(64, 64, kernel_size=(3, 3), stride=(1, 1), padding=(1, 1), bias=False)\n",
       "      (bn2): BatchNorm2d(64, eps=1e-05, momentum=0.1, affine=True, track_running_stats=True)\n",
       "    )\n",
       "  )\n",
       "  (layer2): Sequential(\n",
       "    (0): BasicBlock(\n",
       "      (conv1): Conv2d(64, 128, kernel_size=(3, 3), stride=(2, 2), padding=(1, 1), bias=False)\n",
       "      (bn1): BatchNorm2d(128, eps=1e-05, momentum=0.1, affine=True, track_running_stats=True)\n",
       "      (relu): ReLU(inplace=True)\n",
       "      (conv2): Conv2d(128, 128, kernel_size=(3, 3), stride=(1, 1), padding=(1, 1), bias=False)\n",
       "      (bn2): BatchNorm2d(128, eps=1e-05, momentum=0.1, affine=True, track_running_stats=True)\n",
       "      (downsample): Sequential(\n",
       "        (0): Conv2d(64, 128, kernel_size=(1, 1), stride=(2, 2), bias=False)\n",
       "        (1): BatchNorm2d(128, eps=1e-05, momentum=0.1, affine=True, track_running_stats=True)\n",
       "      )\n",
       "    )\n",
       "    (1): BasicBlock(\n",
       "      (conv1): Conv2d(128, 128, kernel_size=(3, 3), stride=(1, 1), padding=(1, 1), bias=False)\n",
       "      (bn1): BatchNorm2d(128, eps=1e-05, momentum=0.1, affine=True, track_running_stats=True)\n",
       "      (relu): ReLU(inplace=True)\n",
       "      (conv2): Conv2d(128, 128, kernel_size=(3, 3), stride=(1, 1), padding=(1, 1), bias=False)\n",
       "      (bn2): BatchNorm2d(128, eps=1e-05, momentum=0.1, affine=True, track_running_stats=True)\n",
       "    )\n",
       "  )\n",
       "  (layer3): Sequential(\n",
       "    (0): BasicBlock(\n",
       "      (conv1): Conv2d(128, 256, kernel_size=(3, 3), stride=(2, 2), padding=(1, 1), bias=False)\n",
       "      (bn1): BatchNorm2d(256, eps=1e-05, momentum=0.1, affine=True, track_running_stats=True)\n",
       "      (relu): ReLU(inplace=True)\n",
       "      (conv2): Conv2d(256, 256, kernel_size=(3, 3), stride=(1, 1), padding=(1, 1), bias=False)\n",
       "      (bn2): BatchNorm2d(256, eps=1e-05, momentum=0.1, affine=True, track_running_stats=True)\n",
       "      (downsample): Sequential(\n",
       "        (0): Conv2d(128, 256, kernel_size=(1, 1), stride=(2, 2), bias=False)\n",
       "        (1): BatchNorm2d(256, eps=1e-05, momentum=0.1, affine=True, track_running_stats=True)\n",
       "      )\n",
       "    )\n",
       "    (1): BasicBlock(\n",
       "      (conv1): Conv2d(256, 256, kernel_size=(3, 3), stride=(1, 1), padding=(1, 1), bias=False)\n",
       "      (bn1): BatchNorm2d(256, eps=1e-05, momentum=0.1, affine=True, track_running_stats=True)\n",
       "      (relu): ReLU(inplace=True)\n",
       "      (conv2): Conv2d(256, 256, kernel_size=(3, 3), stride=(1, 1), padding=(1, 1), bias=False)\n",
       "      (bn2): BatchNorm2d(256, eps=1e-05, momentum=0.1, affine=True, track_running_stats=True)\n",
       "    )\n",
       "  )\n",
       "  (layer4): Sequential(\n",
       "    (0): BasicBlock(\n",
       "      (conv1): Conv2d(256, 512, kernel_size=(3, 3), stride=(2, 2), padding=(1, 1), bias=False)\n",
       "      (bn1): BatchNorm2d(512, eps=1e-05, momentum=0.1, affine=True, track_running_stats=True)\n",
       "      (relu): ReLU(inplace=True)\n",
       "      (conv2): Conv2d(512, 512, kernel_size=(3, 3), stride=(1, 1), padding=(1, 1), bias=False)\n",
       "      (bn2): BatchNorm2d(512, eps=1e-05, momentum=0.1, affine=True, track_running_stats=True)\n",
       "      (downsample): Sequential(\n",
       "        (0): Conv2d(256, 512, kernel_size=(1, 1), stride=(2, 2), bias=False)\n",
       "        (1): BatchNorm2d(512, eps=1e-05, momentum=0.1, affine=True, track_running_stats=True)\n",
       "      )\n",
       "    )\n",
       "    (1): BasicBlock(\n",
       "      (conv1): Conv2d(512, 512, kernel_size=(3, 3), stride=(1, 1), padding=(1, 1), bias=False)\n",
       "      (bn1): BatchNorm2d(512, eps=1e-05, momentum=0.1, affine=True, track_running_stats=True)\n",
       "      (relu): ReLU(inplace=True)\n",
       "      (conv2): Conv2d(512, 512, kernel_size=(3, 3), stride=(1, 1), padding=(1, 1), bias=False)\n",
       "      (bn2): BatchNorm2d(512, eps=1e-05, momentum=0.1, affine=True, track_running_stats=True)\n",
       "    )\n",
       "  )\n",
       "  (avgpool): AdaptiveAvgPool2d(output_size=(1, 1))\n",
       "  (fc): Linear(in_features=512, out_features=5, bias=True)\n",
       ")"
      ]
     },
     "execution_count": 36,
     "metadata": {},
     "output_type": "execute_result"
    }
   ],
   "source": [
    "args.pretrained = False\n",
    "model = get_model(args)\n",
    "\n",
    "model.load_state_dict(torch.load(save_path)['model'])\n",
    "\n",
    "model.cuda()"
   ]
  },
  {
   "cell_type": "code",
   "execution_count": 37,
   "id": "8e827941",
   "metadata": {},
   "outputs": [],
   "source": [
    "test_dataloader = get_dataloader(batch_size = args.batch_size, split='test')"
   ]
  },
  {
   "cell_type": "code",
   "execution_count": 38,
   "id": "db655f6e",
   "metadata": {},
   "outputs": [],
   "source": [
    "preds = []\n",
    "labels = []\n",
    "with torch.no_grad():\n",
    "    model.eval()\n",
    "    for (x,y) in test_dataloader:\n",
    "        x = x.cuda()\n",
    "        y = y.cuda()\n",
    "\n",
    "        out = model(x)\n",
    "        \n",
    "        preds.append(out.data.cpu())\n",
    "        labels.append(y.data.cpu())\n",
    "preds = torch.cat(preds)\n",
    "labels = torch.cat(labels)"
   ]
  },
  {
   "cell_type": "code",
   "execution_count": 39,
   "id": "0c39b8ae",
   "metadata": {},
   "outputs": [],
   "source": [
    "preds = preds.softmax(1)"
   ]
  },
  {
   "cell_type": "code",
   "execution_count": 40,
   "id": "aa45bbc1",
   "metadata": {},
   "outputs": [
    {
     "data": {
      "text/plain": [
       "tensor(0.7319)"
      ]
     },
     "execution_count": 40,
     "metadata": {},
     "output_type": "execute_result"
    }
   ],
   "source": [
    "torch.mean((preds.argmax(1) == labels).float())"
   ]
  },
  {
   "cell_type": "code",
   "execution_count": 41,
   "id": "0971b27a",
   "metadata": {},
   "outputs": [],
   "source": [
    "import itertools\n",
    "def plot_confusion_matrix(cm, target_names=None, cmap=None, normalize=True, labels=True, title='Confusion matrix'):\n",
    "    accuracy = np.trace(cm) / float(np.sum(cm))\n",
    "    misclass = 1 - accuracy\n",
    "\n",
    "    if cmap is None:\n",
    "        cmap = plt.get_cmap('Blues')\n",
    "\n",
    "    if normalize:\n",
    "        cm = cm.astype('float') / cm.sum(axis=1)[:, np.newaxis]\n",
    "        \n",
    "    plt.figure(figsize=(8, 6))\n",
    "    plt.imshow(cm, interpolation='nearest', cmap=cmap)\n",
    "    plt.title(title)\n",
    "    plt.colorbar()\n",
    "\n",
    "    thresh = cm.max() / 1.5 if normalize else cm.max() / 2\n",
    "    \n",
    "    if target_names is not None:\n",
    "        tick_marks = np.arange(len(target_names))\n",
    "        plt.xticks(tick_marks, target_names)\n",
    "        plt.yticks(tick_marks, target_names)\n",
    "    \n",
    "    if labels:\n",
    "        for i, j in itertools.product(range(cm.shape[0]), range(cm.shape[1])):\n",
    "            if normalize:\n",
    "                plt.text(j, i, \"{:0.4f}\".format(cm[i, j]),\n",
    "                         horizontalalignment=\"center\",\n",
    "                         color=\"white\" if cm[i, j] > thresh else \"black\")\n",
    "            else:\n",
    "                plt.text(j, i, \"{:,}\".format(cm[i, j]),\n",
    "                         horizontalalignment=\"center\",\n",
    "                         color=\"white\" if cm[i, j] > thresh else \"black\")\n",
    "\n",
    "    plt.tight_layout()\n",
    "    plt.ylabel('True label')\n",
    "    plt.xlabel('Predicted label\\naccuracy={:0.4f}; misclass={:0.4f}'.format(accuracy, misclass))\n",
    "    plt.show()"
   ]
  },
  {
   "cell_type": "code",
   "execution_count": 42,
   "id": "32de02b9",
   "metadata": {},
   "outputs": [],
   "source": [
    "new_pred = preds.argmax(1).clone()\n",
    "new_label = labels.clone()"
   ]
  },
  {
   "cell_type": "code",
   "execution_count": 43,
   "id": "1c310a31",
   "metadata": {},
   "outputs": [],
   "source": [
    "new_pred[new_pred==4] = 3\n",
    "new_label[new_label==4] = 3"
   ]
  },
  {
   "cell_type": "code",
   "execution_count": 44,
   "id": "7e60f8a6",
   "metadata": {},
   "outputs": [
    {
     "data": {
      "image/png": "[encoded data removed]",
      "text/plain": [
       "<Figure size 576x432 with 2 Axes>"
      ]
     },
     "metadata": {
      "needs_background": "light"
     },
     "output_type": "display_data"
    }
   ],
   "source": [
    "cm = confusion_matrix(y_true=new_label, y_pred=new_pred)\n",
    "plot_confusion_matrix(cm,normalize=False)"
   ]
  },
  {
   "cell_type": "code",
   "execution_count": 46,
   "id": "c781f5c9",
   "metadata": {},
   "outputs": [
    {
     "data": {
      "image/png": "[encoded data removed]",
      "text/plain": [
       "<Figure size 576x432 with 2 Axes>"
      ]
     },
     "metadata": {
      "needs_background": "light"
     },
     "output_type": "display_data"
    }
   ],
   "source": [
    "cm = confusion_matrix(y_true=new_label, y_pred=new_pred)\n",
    "plot_confusion_matrix(cm,normalize=False)"
   ]
  },
  {
   "cell_type": "code",
   "execution_count": 35,
   "id": "a7d61844",
   "metadata": {},
   "outputs": [
    {
     "data": {
      "image/png": "[encoded data removed]",
      "text/plain": [
       "<Figure size 576x432 with 2 Axes>"
      ]
     },
     "metadata": {
      "needs_background": "light"
     },
     "output_type": "display_data"
    }
   ],
   "source": [
    "cm = confusion_matrix(y_true=labels, y_pred=preds.argmax(1))\n",
    "plot_confusion_matrix(cm,normalize=False)"
   ]
  },
  {
   "cell_type": "markdown",
   "id": "5ff14aed",
   "metadata": {},
   "source": [
    "# GradCAM\n",
    "\n",
    "https://github.com/jacobgil/pytorch-grad-cam"
   ]
  },
  {
   "cell_type": "code",
   "execution_count": 46,
   "id": "33e9aec0",
   "metadata": {
    "scrolled": false
   },
   "outputs": [
    {
     "name": "stderr",
     "output_type": "stream",
     "text": [
      "/home/jg/miniconda3/envs/cac/lib/python3.9/site-packages/pytorch_grad_cam/base_cam.py:85: RuntimeWarning: invalid value encountered in true_divide\n",
      "  img = img / np.max(img)\n"
     ]
    }
   ],
   "source": [
    "from pytorch_grad_cam import GradCAM, ScoreCAM, GradCAMPlusPlus, AblationCAM, XGradCAM, EigenCAM\n",
    "from pytorch_grad_cam.utils.image import show_cam_on_image\n",
    "import os \n",
    "\n",
    "target_layer = model.layer4[-1] #resnet\n",
    "# target_layer = model.features[18] #rexnet\n",
    "cam = GradCAM(model=model, target_layer=target_layer, use_cuda=True)\n",
    "cam_save_path = '../save/0007_20210709_small_resnet18_centercrop_pretrained//images/GradCAM2/'\n",
    "os.makedirs(cam_save_path, exist_ok=True)\n",
    "\n",
    "for idx, (x,y) in enumerate(test_dataloader):\n",
    "        input_tensor = x.cuda()\n",
    "        with torch.no_grad():\n",
    "            pred_prob = model(input_tensor).softmax(1)\n",
    "            pred = pred_prob.argmax(1)         \n",
    "        \n",
    "        cams = []\n",
    "        for c in range(5):\n",
    "            target_category = c\n",
    "            grayscale_cam = cam(input_tensor=input_tensor, target_category=target_category)\n",
    "            cams.append(grayscale_cam)\n",
    "\n",
    "        for i in range(len(x)):\n",
    "            visualizations = []\n",
    "            for c in range(5):\n",
    "                visualization = show_cam_on_image(input_tensor[i].permute(1,2,0).data.cpu().numpy(), cams[c][i])\n",
    "                visualizations.append(visualization)\n",
    "            \n",
    "            # show\n",
    "            plt.figure(figsize=(20,15))\n",
    "            plt.subplot(2,3,1)\n",
    "            plt.imshow(input_tensor[i].permute(1,2,0).data.cpu())\n",
    "            plt.title('Input image')\n",
    "            for c in range(5):\n",
    "                plt.subplot(2,3,2+c)\n",
    "                plt.imshow(visualizations[c])\n",
    "                plt.title('Pred: {} / Label: {} / Confidence: {:.3f} '.format(c, y[i],  pred_prob[i,c]))\n",
    "            \n",
    "            plt.savefig(os.path.join(cam_save_path,'label_{}_pred_{}_conf_{:.3f}.png'.format(y[i],pred[i],pred_prob[i,pred[i]])))\n",
    "            plt.close()"
   ]
  },
  {
   "cell_type": "code",
   "execution_count": null,
   "id": "83157848",
   "metadata": {},
   "outputs": [],
   "source": []
  }
 ],
 "metadata": {
  "kernelspec": {
   "display_name": "Python 3",
   "language": "python",
   "name": "python3"
  },
  "language_info": {
   "codemirror_mode": {
    "name": "ipython",
    "version": 3
   },
   "file_extension": ".py",
   "mimetype": "text/x-python",
   "name": "python",
   "nbconvert_exporter": "python",
   "pygments_lexer": "ipython3",
   "version": "3.9.4"
  }
 },
 "nbformat": 4,
 "nbformat_minor": 5
}
