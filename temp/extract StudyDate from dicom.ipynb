{
 "cells": [
  {
   "cell_type": "code",
   "execution_count": 30,
   "id": "baf479f3",
   "metadata": {},
   "outputs": [],
   "source": [
    "import os\n",
    "import pydicom\n",
    "import tqdm\n",
    "import pandas as pd\n",
    "import numpy as np"
   ]
  },
  {
   "cell_type": "code",
   "execution_count": 19,
   "id": "317c8513",
   "metadata": {},
   "outputs": [],
   "source": [
    "def get_date_dict(dir_name):\n",
    "    items = os.listdir(dir_name)\n",
    "    date_dict = {}\n",
    "    for item in tqdm.tqdm(items):\n",
    "        dcm = pydicom.read_file(os.path.join(dir_name, item))\n",
    "        date_dict[item] = dcm.StudyDate\n",
    "    return date_dict"
   ]
  },
  {
   "cell_type": "code",
   "execution_count": 20,
   "id": "6aeb16dd",
   "metadata": {},
   "outputs": [
    {
     "name": "stderr",
     "output_type": "stream",
     "text": [
      "100%|██████████| 968/968 [01:48<00:00,  8.89it/s]\n"
     ]
    }
   ],
   "source": [
    "date_dict_cac0 = get_date_dcit('cac_0')\n",
    "date_dict_cac1 = get_date_dict('cac_1')"
   ]
  },
  {
   "cell_type": "code",
   "execution_count": 36,
   "id": "ad75d3d1",
   "metadata": {},
   "outputs": [],
   "source": [
    "date_df_cac0 = pd.DataFrame([date_dict_cac0]).T\n",
    "date_df_cac1 = pd.DataFrame([date_dict_cac1]).T"
   ]
  },
  {
   "cell_type": "code",
   "execution_count": 37,
   "id": "c8c55537",
   "metadata": {},
   "outputs": [],
   "source": [
    "date_df_cac0.to_csv('StudyDate_cac_0.csv')\n",
    "date_df_cac1.to_csv('StudyDate_cac_1.csv')"
   ]
  },
  {
   "cell_type": "code",
   "execution_count": 41,
   "id": "37edd7ba",
   "metadata": {},
   "outputs": [
    {
     "name": "stdout",
     "output_type": "stream",
     "text": [
      "1.0\n",
      "1.0\n"
     ]
    }
   ],
   "source": [
    "def check(x, start='2017'):\n",
    "    if x.startswith(start):\n",
    "        return True\n",
    "    else:\n",
    "        return False\n",
    "print(np.mean(date_df_cac0[0].map(check).values.astype(float)))\n",
    "print(np.mean(date_df_cac1[0].map(check).values.astype(float)))"
   ]
  }
 ],
 "metadata": {
  "kernelspec": {
   "display_name": "Python 3",
   "language": "python",
   "name": "python3"
  },
  "language_info": {
   "codemirror_mode": {
    "name": "ipython",
    "version": 3
   },
   "file_extension": ".py",
   "mimetype": "text/x-python",
   "name": "python",
   "nbconvert_exporter": "python",
   "pygments_lexer": "ipython3",
   "version": "3.9.4"
  }
 },
 "nbformat": 4,
 "nbformat_minor": 5
}
