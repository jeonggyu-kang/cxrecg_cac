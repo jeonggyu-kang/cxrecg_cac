{
 "cells": [
  {
   "cell_type": "code",
   "execution_count": 12,
   "id": "3964bade",
   "metadata": {},
   "outputs": [],
   "source": [
    "import pandas as pd\n",
    "import numpy as np\n",
    "import os\n",
    "import json\n",
    "import pydicom\n",
    "from tqdm import tqdm"
   ]
  },
  {
   "cell_type": "code",
   "execution_count": 2,
   "id": "87e60643",
   "metadata": {},
   "outputs": [],
   "source": [
    "dirs = ['cac_0','cac_1']"
   ]
  },
  {
   "cell_type": "code",
   "execution_count": 10,
   "id": "28bb0b5f",
   "metadata": {},
   "outputs": [
    {
     "name": "stderr",
     "output_type": "stream",
     "text": [
      "/home/jg/miniconda3/envs/cac/lib/python3.9/site-packages/IPython/core/interactiveshell.py:3165: DtypeWarning: Columns (27) have mixed types.Specify dtype option on import or set low_memory=False.\n",
      "  has_raised = await self.run_ast_nodes(code_ast.body, cell_name,\n"
     ]
    }
   ],
   "source": [
    "cac_score_df = pd.read_csv('HRV10_CAC.csv')[['patid','dov','cac']]\n",
    "cac_score_df = cac_score_df[~np.isnan(cac_score_df['cac'])]"
   ]
  },
  {
   "cell_type": "code",
   "execution_count": 62,
   "id": "fa980251",
   "metadata": {},
   "outputs": [],
   "source": [
    "def match_date_format(x):\n",
    "    return x.replace('-','')\n",
    "cac_score_df['dov'] = cac_score_df['dov'].map(match_date_format)"
   ]
  },
  {
   "cell_type": "code",
   "execution_count": 59,
   "id": "38c9916d",
   "metadata": {},
   "outputs": [
    {
     "name": "stderr",
     "output_type": "stream",
     "text": [
      "100%|██████████| 1512/1512 [00:53<00:00, 28.06it/s] \n",
      "  0%|          | 1/968 [00:00<01:53,  8.50it/s]"
     ]
    },
    {
     "name": "stdout",
     "output_type": "stream",
     "text": [
      "832 680\n"
     ]
    },
    {
     "name": "stderr",
     "output_type": "stream",
     "text": [
      "100%|██████████| 968/968 [01:49<00:00,  8.84it/s]"
     ]
    },
    {
     "name": "stdout",
     "output_type": "stream",
     "text": [
      "368 600\n"
     ]
    },
    {
     "name": "stderr",
     "output_type": "stream",
     "text": [
      "\n"
     ]
    }
   ],
   "source": [
    "# pat id check\n",
    "values = cac_score_df['patid'].values\n",
    "d = {k:True for k in cac_score_df['patid'].values}\n",
    "\n",
    "\n",
    "for dir_name in dirs:\n",
    "    items = os.listdir(dir_name)\n",
    "    success = []\n",
    "    failure = []\n",
    "    for item in tqdm(items):\n",
    "        dcm_path = os.path.join(dir_name, item)\n",
    "        dcm = pydicom.read_file(dcm_path)\n",
    "        if d.get(int(dcm.PatientID),None):\n",
    "            success.append(dcm_path)\n",
    "        else:\n",
    "            failure.append(dcm_path)\n",
    "    print(dir_name, len(success), len(failure))\n"
   ]
  },
  {
   "cell_type": "code",
   "execution_count": 72,
   "id": "aea776e2",
   "metadata": {},
   "outputs": [],
   "source": [
    "def getScore(dcm_path , score_df):\n",
    "    dcm = pydicom.read_file(dcm_path)\n",
    "    study_date = dcm.StudyDate\n",
    "    pat_id = int(dcm.PatientID)\n",
    "    pat_df = score_df[score_df['patid']== pat_id]\n",
    "    if len(pat_df)>0:\n",
    "        df = pat_df[pat_df['dov'] == study_date]\n",
    "        if len(df)>0:\n",
    "            return [pat_id, study_date, df['cac'].values[0]]\n",
    "        else:\n",
    "            return False\n",
    "    else:\n",
    "        return False"
   ]
  },
  {
   "cell_type": "code",
   "execution_count": 73,
   "id": "42497df6",
   "metadata": {},
   "outputs": [
    {
     "name": "stderr",
     "output_type": "stream",
     "text": [
      "100%|██████████| 1512/1512 [02:04<00:00, 12.19it/s] \n",
      "100%|██████████| 968/968 [01:17<00:00, 12.45it/s] \n"
     ]
    }
   ],
   "source": [
    "matched_files_list = []\n",
    "for dir_name in dirs:\n",
    "    items = os.listdir(dir_name)\n",
    "    for item in tqdm(items):\n",
    "        dcm_path = os.path.join(dir_name, item)\n",
    "        values = getScore(dcm_path, cac_score_df)\n",
    "        if values:\n",
    "            values = [dcm_path] + values\n",
    "            # values: dcm_path, pat_id, study_date, cac score\n",
    "            matched_files_list.append(values)"
   ]
  },
  {
   "cell_type": "code",
   "execution_count": 76,
   "id": "d22b76b0",
   "metadata": {},
   "outputs": [],
   "source": [
    "df = pd.DataFrame(matched_files_list)"
   ]
  },
  {
   "cell_type": "code",
   "execution_count": 78,
   "id": "6b09696d",
   "metadata": {},
   "outputs": [],
   "source": [
    "df.columns = ['dcm_path', 'pat_id','study_date','score']"
   ]
  },
  {
   "cell_type": "code",
   "execution_count": 79,
   "id": "b7920e97",
   "metadata": {},
   "outputs": [],
   "source": [
    "df.to_parquet('training.parquet', engine='pyarrow')"
   ]
  },
  {
   "cell_type": "code",
   "execution_count": 81,
   "id": "a14fee4c",
   "metadata": {},
   "outputs": [
    {
     "data": {
      "text/plain": [
       "array([[ 96,  96,  96, ..., 125, 128, 131],\n",
       "       [ 96,  96,  96, ..., 125, 128, 131],\n",
       "       [ 96,  96,  96, ..., 124, 128, 132],\n",
       "       ...,\n",
       "       [364, 457, 522, ..., 478, 477, 465],\n",
       "       [410, 504, 569, ..., 473, 478, 465],\n",
       "       [456, 550, 616, ..., 453, 462, 450]], dtype=uint16)"
      ]
     },
     "execution_count": 81,
     "metadata": {},
     "output_type": "execute_result"
    }
   ],
   "source": [
    "dcm.pixel_array"
   ]
  }
 ],
 "metadata": {
  "kernelspec": {
   "display_name": "Python 3",
   "language": "python",
   "name": "python3"
  },
  "language_info": {
   "codemirror_mode": {
    "name": "ipython",
    "version": 3
   },
   "file_extension": ".py",
   "mimetype": "text/x-python",
   "name": "python",
   "nbconvert_exporter": "python",
   "pygments_lexer": "ipython3",
   "version": "3.9.4"
  }
 },
 "nbformat": 4,
 "nbformat_minor": 5
}
