{
 "cells": [
  {
   "cell_type": "code",
   "execution_count": 2,
   "id": "d65ff0fe",
   "metadata": {},
   "outputs": [
    {
     "name": "stdout",
     "output_type": "stream",
     "text": [
      "xs values: [0, 1, 2, 3, 4, 5, 6, 7, 8, 9]\n",
      "ys values: [1, 0, 1, 1, 1, 0, 0, 1, 1, 0]\n"
     ]
    }
   ],
   "source": [
    "import random\n",
    "xs = list(range(10))\n",
    "ys = [ random.randint(0,1) for _ in range(10)]\n",
    "print ('xs values: {}'.format(xs))\n",
    "print ('ys values: {}'.format(ys))"
   ]
  },
  {
   "cell_type": "code",
   "execution_count": 3,
   "id": "06e66fb6",
   "metadata": {},
   "outputs": [
    {
     "name": "stdout",
     "output_type": "stream",
     "text": [
      "(0, 1) (2, 1)\n",
      "10\n"
     ]
    }
   ],
   "source": [
    "dataset = list(zip(xs,ys))\n",
    "print(dataset[0], dataset[2])\n",
    "print(len(dataset))"
   ]
  },
  {
   "cell_type": "code",
   "execution_count": 4,
   "id": "f9b8b070",
   "metadata": {},
   "outputs": [
    {
     "name": "stdout",
     "output_type": "stream",
     "text": [
      "10\n",
      "(0, 1) (2, 1)\n"
     ]
    }
   ],
   "source": [
    "class MyDataset:\n",
    "    def __init__(self, xs, ys):\n",
    "        self.xs = xs\n",
    "        self.ys = ys\n",
    "        \n",
    "    def __len__(self):\n",
    "        return len(self.xs)\n",
    "    \n",
    "    def __getitem__(self, idx):\n",
    "        # print ('idx: {}'.format(idx) )\n",
    "        return self.xs[idx], self.ys[idx]\n",
    "    \n",
    "dataset = MyDataset(xs, ys)\n",
    "print (len(dataset))\n",
    "print (dataset[0], dataset[2])"
   ]
  },
  {
   "cell_type": "code",
   "execution_count": 5,
   "id": "06e19e0c",
   "metadata": {},
   "outputs": [
    {
     "name": "stdout",
     "output_type": "stream",
     "text": [
      "1 th sample: 0, 1\n",
      "2 th sample: 1, 0\n",
      "3 th sample: 2, 1\n",
      "4 th sample: 3, 1\n",
      "5 th sample: 4, 1\n",
      "6 th sample: 5, 0\n",
      "7 th sample: 6, 0\n",
      "8 th sample: 7, 1\n",
      "9 th sample: 8, 1\n",
      "10 th sample: 9, 0\n"
     ]
    }
   ],
   "source": [
    "for i, (x, y) in enumerate(dataset):\n",
    "    print ('{} th sample: {}, {}'. format(i+1, x, y))"
   ]
  },
  {
   "cell_type": "code",
   "execution_count": 6,
   "id": "b052e821",
   "metadata": {},
   "outputs": [
    {
     "name": "stdout",
     "output_type": "stream",
     "text": [
      "1 th sample: tensor([0]), tensor([1])\n",
      "2 th sample: tensor([1]), tensor([0])\n",
      "3 th sample: tensor([2]), tensor([1])\n",
      "4 th sample: tensor([3]), tensor([1])\n",
      "5 th sample: tensor([4]), tensor([1])\n",
      "6 th sample: tensor([5]), tensor([0])\n",
      "7 th sample: tensor([6]), tensor([0])\n",
      "8 th sample: tensor([7]), tensor([1])\n",
      "9 th sample: tensor([8]), tensor([1])\n",
      "10 th sample: tensor([9]), tensor([0])\n"
     ]
    }
   ],
   "source": [
    "from torch.utils.data import DataLoader\n",
    "\n",
    "dataloader = DataLoader(dataset = dataset)\n",
    "\n",
    "for i, (x,y) in enumerate (dataloader):\n",
    "    print ('{} th sample: {}, {}'.format(i+1, x, y))"
   ]
  },
  {
   "cell_type": "code",
   "execution_count": 8,
   "id": "269838f2",
   "metadata": {},
   "outputs": [
    {
     "name": "stdout",
     "output_type": "stream",
     "text": [
      "1 th sample: tensor([0, 1, 2]), tensor([1, 0, 1])\n",
      "2 th sample: tensor([3, 4, 5]), tensor([1, 1, 0])\n",
      "3 th sample: tensor([6, 7, 8]), tensor([0, 1, 1])\n",
      "4 th sample: tensor([9]), tensor([0])\n"
     ]
    }
   ],
   "source": [
    "dataloader = DataLoader(dataset = dataset, batch_size = 3)\n",
    "\n",
    "for i, (x,y) in enumerate (dataloader):\n",
    "    print ('{} th sample: {}, {}'.format(i+1, x, y))"
   ]
  },
  {
   "cell_type": "code",
   "execution_count": 9,
   "id": "eeb281f7",
   "metadata": {},
   "outputs": [
    {
     "name": "stdout",
     "output_type": "stream",
     "text": [
      "1 th sample: tensor([3, 6]), tensor([1, 0])\n",
      "2 th sample: tensor([8, 2]), tensor([1, 1])\n",
      "3 th sample: tensor([4, 9]), tensor([1, 0])\n",
      "4 th sample: tensor([7, 5]), tensor([1, 0])\n",
      "5 th sample: tensor([1, 0]), tensor([0, 1])\n"
     ]
    }
   ],
   "source": [
    "dataloader = DataLoader(dataset = dataset, batch_size = 2, shuffle=True)\n",
    "\n",
    "for i, (x,y) in enumerate (dataloader):\n",
    "    print ('{} th sample: {}, {}'.format(i+1, x, y))"
   ]
  },
  {
   "cell_type": "code",
   "execution_count": 10,
   "id": "034589ec",
   "metadata": {},
   "outputs": [
    {
     "name": "stdout",
     "output_type": "stream",
     "text": [
      "<class 'torch.utils.data.sampler.SequentialSampler'>\n",
      "0\n",
      "1\n",
      "2\n",
      "3\n",
      "4\n",
      "5\n",
      "6\n",
      "7\n",
      "8\n",
      "9\n"
     ]
    }
   ],
   "source": [
    "sampler = DataLoader(dataset, shuffle=False).sampler\n",
    "\n",
    "print(type(sampler))\n",
    "for s in sampler:\n",
    "    print(s)"
   ]
  },
  {
   "cell_type": "code",
   "execution_count": 14,
   "id": "77ff1d0e",
   "metadata": {},
   "outputs": [
    {
     "name": "stdout",
     "output_type": "stream",
     "text": [
      "<class 'torch.utils.data.sampler.RandomSampler'>\n",
      "5\n",
      "9\n",
      "1\n",
      "2\n",
      "0\n",
      "4\n",
      "8\n",
      "3\n",
      "7\n",
      "6\n"
     ]
    }
   ],
   "source": [
    "sampler = DataLoader(dataset, shuffle=True).sampler\n",
    "\n",
    "print(type(sampler))\n",
    "for s in sampler:\n",
    "    print(s)"
   ]
  },
  {
   "cell_type": "code",
   "execution_count": 19,
   "id": "566cbd73",
   "metadata": {},
   "outputs": [
    {
     "name": "stdout",
     "output_type": "stream",
     "text": [
      "0\n",
      "1\n",
      "2\n",
      "3\n",
      "4\n",
      "5\n",
      "6\n",
      "7\n",
      "8\n",
      "9\n"
     ]
    }
   ],
   "source": [
    "from torch.utils.data.sampler import RandomSampler\n",
    "from torch.utils.data.sampler import SequentialSampler\n",
    "\n",
    "random_sampler = SequentialSampler(dataset)\n",
    "\n",
    "dataloader = DataLoader (dataset, sampler = random_sampler)\n",
    "\n",
    "for s in dataloader.sampler:\n",
    "    print(s)"
   ]
  },
  {
   "cell_type": "code",
   "execution_count": null,
   "id": "7cfa17d3",
   "metadata": {},
   "outputs": [],
   "source": []
  }
 ],
 "metadata": {
  "kernelspec": {
   "display_name": "Python 3 (ipykernel)",
   "language": "python",
   "name": "python3"
  },
  "language_info": {
   "codemirror_mode": {
    "name": "ipython",
    "version": 3
   },
   "file_extension": ".py",
   "mimetype": "text/x-python",
   "name": "python",
   "nbconvert_exporter": "python",
   "pygments_lexer": "ipython3",
   "version": "3.9.1"
  }
 },
 "nbformat": 4,
 "nbformat_minor": 5
}
